{
 "cells": [
  {
   "cell_type": "code",
   "execution_count": 308,
   "metadata": {
    "collapsed": true
   },
   "outputs": [],
   "source": [
    "import pandas as pd\n",
    "import altair as alt"
   ]
  },
  {
   "cell_type": "code",
   "execution_count": 309,
   "outputs": [],
   "source": [
    "csv = pd.read_csv('./employees.csv')"
   ],
   "metadata": {
    "collapsed": false
   }
  },
  {
   "cell_type": "markdown",
   "source": [],
   "metadata": {
    "collapsed": false
   }
  },
  {
   "cell_type": "code",
   "execution_count": 310,
   "outputs": [
    {
     "name": "stderr",
     "output_type": "stream",
     "text": [
      "/Users/pp/Library/Caches/pypoetry/virtualenvs/factorydb-fGh_wC37-py3.10/lib/python3.10/site-packages/altair/utils/core.py:317: FutureWarning: iteritems is deprecated and will be removed in a future version. Use .items instead.\n",
      "  for col_name, dtype in df.dtypes.iteritems():\n"
     ]
    },
    {
     "data": {
      "text/html": "\n<div id=\"altair-viz-0c5f64c2503043d9b7ab9f96f68d8426\"></div>\n<script type=\"text/javascript\">\n  var VEGA_DEBUG = (typeof VEGA_DEBUG == \"undefined\") ? {} : VEGA_DEBUG;\n  (function(spec, embedOpt){\n    let outputDiv = document.currentScript.previousElementSibling;\n    if (outputDiv.id !== \"altair-viz-0c5f64c2503043d9b7ab9f96f68d8426\") {\n      outputDiv = document.getElementById(\"altair-viz-0c5f64c2503043d9b7ab9f96f68d8426\");\n    }\n    const paths = {\n      \"vega\": \"https://cdn.jsdelivr.net/npm//vega@5?noext\",\n      \"vega-lib\": \"https://cdn.jsdelivr.net/npm//vega-lib?noext\",\n      \"vega-lite\": \"https://cdn.jsdelivr.net/npm//vega-lite@4.17.0?noext\",\n      \"vega-embed\": \"https://cdn.jsdelivr.net/npm//vega-embed@6?noext\",\n    };\n\n    function maybeLoadScript(lib, version) {\n      var key = `${lib.replace(\"-\", \"\")}_version`;\n      return (VEGA_DEBUG[key] == version) ?\n        Promise.resolve(paths[lib]) :\n        new Promise(function(resolve, reject) {\n          var s = document.createElement('script');\n          document.getElementsByTagName(\"head\")[0].appendChild(s);\n          s.async = true;\n          s.onload = () => {\n            VEGA_DEBUG[key] = version;\n            return resolve(paths[lib]);\n          };\n          s.onerror = () => reject(`Error loading script: ${paths[lib]}`);\n          s.src = paths[lib];\n        });\n    }\n\n    function showError(err) {\n      outputDiv.innerHTML = `<div class=\"error\" style=\"color:red;\">${err}</div>`;\n      throw err;\n    }\n\n    function displayChart(vegaEmbed) {\n      vegaEmbed(outputDiv, spec, embedOpt)\n        .catch(err => showError(`Javascript Error: ${err.message}<br>This usually means there's a typo in your chart specification. See the javascript console for the full traceback.`));\n    }\n\n    if(typeof define === \"function\" && define.amd) {\n      requirejs.config({paths});\n      require([\"vega-embed\"], displayChart, err => showError(`Error loading script: ${err.message}`));\n    } else {\n      maybeLoadScript(\"vega\", \"5\")\n        .then(() => maybeLoadScript(\"vega-lite\", \"4.17.0\"))\n        .then(() => maybeLoadScript(\"vega-embed\", \"6\"))\n        .catch(showError)\n        .then(() => displayChart(vegaEmbed));\n    }\n  })({\"config\": {\"view\": {\"continuousWidth\": 400, \"continuousHeight\": 300}}, \"data\": {\"name\": \"data-5303fa4c2e94539b2a9f8be940cf1745\"}, \"mark\": {\"type\": \"bar\", \"orient\": \"vertical\"}, \"encoding\": {\"color\": {\"field\": \"counts\", \"type\": \"quantitative\"}, \"x\": {\"field\": \"date_of_employment\", \"type\": \"nominal\"}, \"y\": {\"field\": \"counts\", \"type\": \"quantitative\"}}, \"$schema\": \"https://vega.github.io/schema/vega-lite/v4.17.0.json\", \"datasets\": {\"data-5303fa4c2e94539b2a9f8be940cf1745\": [{\"date_of_employment\": \"2014-04-09\", \"counts\": 4}, {\"date_of_employment\": \"2019-05-21\", \"counts\": 4}, {\"date_of_employment\": \"2000-03-27\", \"counts\": 4}, {\"date_of_employment\": \"2018-07-14\", \"counts\": 4}, {\"date_of_employment\": \"2011-01-12\", \"counts\": 4}, {\"date_of_employment\": \"2004-02-15\", \"counts\": 4}, {\"date_of_employment\": \"2017-03-03\", \"counts\": 3}, {\"date_of_employment\": \"2012-08-03\", \"counts\": 3}, {\"date_of_employment\": \"1994-04-05\", \"counts\": 3}, {\"date_of_employment\": \"2020-01-24\", \"counts\": 3}, {\"date_of_employment\": \"1994-04-25\", \"counts\": 3}, {\"date_of_employment\": \"2012-09-11\", \"counts\": 3}, {\"date_of_employment\": \"2017-03-06\", \"counts\": 3}, {\"date_of_employment\": \"2012-10-10\", \"counts\": 3}, {\"date_of_employment\": \"2012-04-18\", \"counts\": 3}, {\"date_of_employment\": \"2021-10-15\", \"counts\": 3}, {\"date_of_employment\": \"1994-05-21\", \"counts\": 3}, {\"date_of_employment\": \"2000-07-29\", \"counts\": 3}, {\"date_of_employment\": \"2000-09-06\", \"counts\": 3}, {\"date_of_employment\": \"1996-07-30\", \"counts\": 3}, {\"date_of_employment\": \"2020-03-12\", \"counts\": 3}, {\"date_of_employment\": \"2000-11-15\", \"counts\": 3}, {\"date_of_employment\": \"2021-08-30\", \"counts\": 3}, {\"date_of_employment\": \"2001-01-25\", \"counts\": 3}, {\"date_of_employment\": \"1994-02-15\", \"counts\": 3}]}}, {\"mode\": \"vega-lite\"});\n</script>",
      "text/plain": "alt.Chart(...)"
     },
     "execution_count": 310,
     "metadata": {},
     "output_type": "execute_result"
    }
   ],
   "source": [
    "df = pd.DataFrame(csv, columns=['date_of_employment'])\n",
    "data = pd.DataFrame(df.value_counts(ascending=False).iloc[:25])\n",
    "alt.Chart(data.reset_index().rename(columns={0: \"counts\"})).mark_bar(orient='vertical').encode(\n",
    "    x='date_of_employment',\n",
    "    y='counts', color='counts'\n",
    ")"
   ],
   "metadata": {
    "collapsed": false
   }
  },
  {
   "cell_type": "code",
   "execution_count": 311,
   "outputs": [
    {
     "name": "stderr",
     "output_type": "stream",
     "text": [
      "/Users/pp/Library/Caches/pypoetry/virtualenvs/factorydb-fGh_wC37-py3.10/lib/python3.10/site-packages/altair/utils/core.py:317: FutureWarning: iteritems is deprecated and will be removed in a future version. Use .items instead.\n",
      "  for col_name, dtype in df.dtypes.iteritems():\n"
     ]
    },
    {
     "data": {
      "text/html": "\n<div id=\"altair-viz-02c76fe05cc64227a34da0d2ce73b2cb\"></div>\n<script type=\"text/javascript\">\n  var VEGA_DEBUG = (typeof VEGA_DEBUG == \"undefined\") ? {} : VEGA_DEBUG;\n  (function(spec, embedOpt){\n    let outputDiv = document.currentScript.previousElementSibling;\n    if (outputDiv.id !== \"altair-viz-02c76fe05cc64227a34da0d2ce73b2cb\") {\n      outputDiv = document.getElementById(\"altair-viz-02c76fe05cc64227a34da0d2ce73b2cb\");\n    }\n    const paths = {\n      \"vega\": \"https://cdn.jsdelivr.net/npm//vega@5?noext\",\n      \"vega-lib\": \"https://cdn.jsdelivr.net/npm//vega-lib?noext\",\n      \"vega-lite\": \"https://cdn.jsdelivr.net/npm//vega-lite@4.17.0?noext\",\n      \"vega-embed\": \"https://cdn.jsdelivr.net/npm//vega-embed@6?noext\",\n    };\n\n    function maybeLoadScript(lib, version) {\n      var key = `${lib.replace(\"-\", \"\")}_version`;\n      return (VEGA_DEBUG[key] == version) ?\n        Promise.resolve(paths[lib]) :\n        new Promise(function(resolve, reject) {\n          var s = document.createElement('script');\n          document.getElementsByTagName(\"head\")[0].appendChild(s);\n          s.async = true;\n          s.onload = () => {\n            VEGA_DEBUG[key] = version;\n            return resolve(paths[lib]);\n          };\n          s.onerror = () => reject(`Error loading script: ${paths[lib]}`);\n          s.src = paths[lib];\n        });\n    }\n\n    function showError(err) {\n      outputDiv.innerHTML = `<div class=\"error\" style=\"color:red;\">${err}</div>`;\n      throw err;\n    }\n\n    function displayChart(vegaEmbed) {\n      vegaEmbed(outputDiv, spec, embedOpt)\n        .catch(err => showError(`Javascript Error: ${err.message}<br>This usually means there's a typo in your chart specification. See the javascript console for the full traceback.`));\n    }\n\n    if(typeof define === \"function\" && define.amd) {\n      requirejs.config({paths});\n      require([\"vega-embed\"], displayChart, err => showError(`Error loading script: ${err.message}`));\n    } else {\n      maybeLoadScript(\"vega\", \"5\")\n        .then(() => maybeLoadScript(\"vega-lite\", \"4.17.0\"))\n        .then(() => maybeLoadScript(\"vega-embed\", \"6\"))\n        .catch(showError)\n        .then(() => displayChart(vegaEmbed));\n    }\n  })({\"config\": {\"view\": {\"continuousWidth\": 400, \"continuousHeight\": 300}}, \"data\": {\"name\": \"data-c89f6a7097efd4580455ce7c65ceea74\"}, \"mark\": {\"type\": \"bar\", \"orient\": \"vertical\"}, \"encoding\": {\"color\": {\"field\": \"counts\", \"type\": \"quantitative\"}, \"x\": {\"field\": \"date_of_employment\", \"type\": \"quantitative\"}, \"y\": {\"field\": \"counts\", \"type\": \"quantitative\"}}, \"$schema\": \"https://vega.github.io/schema/vega-lite/v4.17.0.json\", \"datasets\": {\"data-c89f6a7097efd4580455ce7c65ceea74\": [{\"date_of_employment\": 1992, \"counts\": 27}, {\"date_of_employment\": 1993, \"counts\": 156}, {\"date_of_employment\": 1994, \"counts\": 157}, {\"date_of_employment\": 1995, \"counts\": 168}, {\"date_of_employment\": 1996, \"counts\": 181}, {\"date_of_employment\": 1997, \"counts\": 157}, {\"date_of_employment\": 1998, \"counts\": 156}, {\"date_of_employment\": 1999, \"counts\": 178}, {\"date_of_employment\": 2000, \"counts\": 171}, {\"date_of_employment\": 2001, \"counts\": 164}, {\"date_of_employment\": 2002, \"counts\": 133}, {\"date_of_employment\": 2003, \"counts\": 150}, {\"date_of_employment\": 2004, \"counts\": 181}, {\"date_of_employment\": 2005, \"counts\": 158}, {\"date_of_employment\": 2006, \"counts\": 152}, {\"date_of_employment\": 2007, \"counts\": 134}, {\"date_of_employment\": 2008, \"counts\": 181}, {\"date_of_employment\": 2009, \"counts\": 159}, {\"date_of_employment\": 2010, \"counts\": 174}, {\"date_of_employment\": 2011, \"counts\": 163}, {\"date_of_employment\": 2012, \"counts\": 168}, {\"date_of_employment\": 2013, \"counts\": 168}, {\"date_of_employment\": 2014, \"counts\": 207}, {\"date_of_employment\": 2015, \"counts\": 169}, {\"date_of_employment\": 2016, \"counts\": 157}, {\"date_of_employment\": 2017, \"counts\": 152}, {\"date_of_employment\": 2018, \"counts\": 164}, {\"date_of_employment\": 2019, \"counts\": 187}, {\"date_of_employment\": 2020, \"counts\": 180}, {\"date_of_employment\": 2021, \"counts\": 185}, {\"date_of_employment\": 2022, \"counts\": 163}]}}, {\"mode\": \"vega-lite\"});\n</script>",
      "text/plain": "alt.Chart(...)"
     },
     "execution_count": 311,
     "metadata": {},
     "output_type": "execute_result"
    }
   ],
   "source": [
    "df = pd.DataFrame(csv, columns=['date_of_employment'])\n",
    "df = df.groupby(df['date_of_employment'].map(lambda x: pd.Timestamp(x).year)).count()\n",
    "df = df.rename(columns={'date_of_employment': 'counts'})\n",
    "df[\"counts\"] = df[\"counts\"].astype('int32')\n",
    "df = df.reset_index(level=0)\n",
    "alt.Chart(df).mark_bar(orient='vertical').encode(\n",
    "    alt.X('date_of_employment'), y='counts', color='counts'\n",
    ")"
   ],
   "metadata": {
    "collapsed": false
   }
  },
  {
   "cell_type": "code",
   "execution_count": 312,
   "outputs": [
    {
     "name": "stderr",
     "output_type": "stream",
     "text": [
      "/Users/pp/Library/Caches/pypoetry/virtualenvs/factorydb-fGh_wC37-py3.10/lib/python3.10/site-packages/altair/utils/core.py:317: FutureWarning: iteritems is deprecated and will be removed in a future version. Use .items instead.\n",
      "  for col_name, dtype in df.dtypes.iteritems():\n"
     ]
    },
    {
     "data": {
      "text/html": "\n<div id=\"altair-viz-19dec57e643f40069594d8ead477d523\"></div>\n<script type=\"text/javascript\">\n  var VEGA_DEBUG = (typeof VEGA_DEBUG == \"undefined\") ? {} : VEGA_DEBUG;\n  (function(spec, embedOpt){\n    let outputDiv = document.currentScript.previousElementSibling;\n    if (outputDiv.id !== \"altair-viz-19dec57e643f40069594d8ead477d523\") {\n      outputDiv = document.getElementById(\"altair-viz-19dec57e643f40069594d8ead477d523\");\n    }\n    const paths = {\n      \"vega\": \"https://cdn.jsdelivr.net/npm//vega@5?noext\",\n      \"vega-lib\": \"https://cdn.jsdelivr.net/npm//vega-lib?noext\",\n      \"vega-lite\": \"https://cdn.jsdelivr.net/npm//vega-lite@4.17.0?noext\",\n      \"vega-embed\": \"https://cdn.jsdelivr.net/npm//vega-embed@6?noext\",\n    };\n\n    function maybeLoadScript(lib, version) {\n      var key = `${lib.replace(\"-\", \"\")}_version`;\n      return (VEGA_DEBUG[key] == version) ?\n        Promise.resolve(paths[lib]) :\n        new Promise(function(resolve, reject) {\n          var s = document.createElement('script');\n          document.getElementsByTagName(\"head\")[0].appendChild(s);\n          s.async = true;\n          s.onload = () => {\n            VEGA_DEBUG[key] = version;\n            return resolve(paths[lib]);\n          };\n          s.onerror = () => reject(`Error loading script: ${paths[lib]}`);\n          s.src = paths[lib];\n        });\n    }\n\n    function showError(err) {\n      outputDiv.innerHTML = `<div class=\"error\" style=\"color:red;\">${err}</div>`;\n      throw err;\n    }\n\n    function displayChart(vegaEmbed) {\n      vegaEmbed(outputDiv, spec, embedOpt)\n        .catch(err => showError(`Javascript Error: ${err.message}<br>This usually means there's a typo in your chart specification. See the javascript console for the full traceback.`));\n    }\n\n    if(typeof define === \"function\" && define.amd) {\n      requirejs.config({paths});\n      require([\"vega-embed\"], displayChart, err => showError(`Error loading script: ${err.message}`));\n    } else {\n      maybeLoadScript(\"vega\", \"5\")\n        .then(() => maybeLoadScript(\"vega-lite\", \"4.17.0\"))\n        .then(() => maybeLoadScript(\"vega-embed\", \"6\"))\n        .catch(showError)\n        .then(() => displayChart(vegaEmbed));\n    }\n  })({\"config\": {\"view\": {\"continuousWidth\": 400, \"continuousHeight\": 300}}, \"data\": {\"name\": \"data-685e0ff42597fdb4704bbe066915187c\"}, \"mark\": \"arc\", \"encoding\": {\"color\": {\"field\": \"employment_type\", \"type\": \"nominal\"}, \"theta\": {\"field\": \"counts\", \"type\": \"quantitative\"}}, \"$schema\": \"https://vega.github.io/schema/vega-lite/v4.17.0.json\", \"datasets\": {\"data-685e0ff42597fdb4704bbe066915187c\": [{\"employment_type\": \"Pe\\u0142en etat\", \"counts\": 2504}, {\"employment_type\": \"P\\u00f3\\u0142 etatu\", \"counts\": 1469}, {\"employment_type\": \"Zatrudnienie na godziny\", \"counts\": 1027}]}}, {\"mode\": \"vega-lite\"});\n</script>",
      "text/plain": "alt.Chart(...)"
     },
     "execution_count": 312,
     "metadata": {},
     "output_type": "execute_result"
    }
   ],
   "source": [
    "df = pd.DataFrame(csv, columns=['id', 'employment_type'])\n",
    "df = df.groupby(['employment_type']).count()\n",
    "df = df.rename(columns={'id': 'counts'})\n",
    "df[\"counts\"] = df[\"counts\"].astype('int32')\n",
    "df = df.reset_index(level=0)\n",
    "alt.Chart(df).mark_arc().encode(\n",
    "    color='employment_type', theta='counts'\n",
    ")"
   ],
   "metadata": {
    "collapsed": false
   }
  },
  {
   "cell_type": "code",
   "execution_count": 313,
   "outputs": [
    {
     "name": "stderr",
     "output_type": "stream",
     "text": [
      "/Users/pp/Library/Caches/pypoetry/virtualenvs/factorydb-fGh_wC37-py3.10/lib/python3.10/site-packages/altair/utils/core.py:317: FutureWarning: iteritems is deprecated and will be removed in a future version. Use .items instead.\n",
      "  for col_name, dtype in df.dtypes.iteritems():\n"
     ]
    },
    {
     "data": {
      "text/html": "\n<div id=\"altair-viz-b1b7e37dc7764ac5adcd47a5c9049ddc\"></div>\n<script type=\"text/javascript\">\n  var VEGA_DEBUG = (typeof VEGA_DEBUG == \"undefined\") ? {} : VEGA_DEBUG;\n  (function(spec, embedOpt){\n    let outputDiv = document.currentScript.previousElementSibling;\n    if (outputDiv.id !== \"altair-viz-b1b7e37dc7764ac5adcd47a5c9049ddc\") {\n      outputDiv = document.getElementById(\"altair-viz-b1b7e37dc7764ac5adcd47a5c9049ddc\");\n    }\n    const paths = {\n      \"vega\": \"https://cdn.jsdelivr.net/npm//vega@5?noext\",\n      \"vega-lib\": \"https://cdn.jsdelivr.net/npm//vega-lib?noext\",\n      \"vega-lite\": \"https://cdn.jsdelivr.net/npm//vega-lite@4.17.0?noext\",\n      \"vega-embed\": \"https://cdn.jsdelivr.net/npm//vega-embed@6?noext\",\n    };\n\n    function maybeLoadScript(lib, version) {\n      var key = `${lib.replace(\"-\", \"\")}_version`;\n      return (VEGA_DEBUG[key] == version) ?\n        Promise.resolve(paths[lib]) :\n        new Promise(function(resolve, reject) {\n          var s = document.createElement('script');\n          document.getElementsByTagName(\"head\")[0].appendChild(s);\n          s.async = true;\n          s.onload = () => {\n            VEGA_DEBUG[key] = version;\n            return resolve(paths[lib]);\n          };\n          s.onerror = () => reject(`Error loading script: ${paths[lib]}`);\n          s.src = paths[lib];\n        });\n    }\n\n    function showError(err) {\n      outputDiv.innerHTML = `<div class=\"error\" style=\"color:red;\">${err}</div>`;\n      throw err;\n    }\n\n    function displayChart(vegaEmbed) {\n      vegaEmbed(outputDiv, spec, embedOpt)\n        .catch(err => showError(`Javascript Error: ${err.message}<br>This usually means there's a typo in your chart specification. See the javascript console for the full traceback.`));\n    }\n\n    if(typeof define === \"function\" && define.amd) {\n      requirejs.config({paths});\n      require([\"vega-embed\"], displayChart, err => showError(`Error loading script: ${err.message}`));\n    } else {\n      maybeLoadScript(\"vega\", \"5\")\n        .then(() => maybeLoadScript(\"vega-lite\", \"4.17.0\"))\n        .then(() => maybeLoadScript(\"vega-embed\", \"6\"))\n        .catch(showError)\n        .then(() => displayChart(vegaEmbed));\n    }\n  })({\"config\": {\"view\": {\"continuousWidth\": 400, \"continuousHeight\": 300}}, \"data\": {\"name\": \"data-63db3b1ad10ddb62640125627d511d54\"}, \"mark\": {\"type\": \"bar\", \"orient\": \"horizontal\"}, \"encoding\": {\"color\": {\"field\": \"counts\", \"type\": \"quantitative\"}, \"x\": {\"field\": \"counts\", \"type\": \"quantitative\"}, \"y\": {\"field\": \"team\", \"type\": \"nominal\"}}, \"$schema\": \"https://vega.github.io/schema/vega-lite/v4.17.0.json\", \"datasets\": {\"data-63db3b1ad10ddb62640125627d511d54\": [{\"team\": \"Bia\\u0142y\", \"counts\": 1040}, {\"team\": \"Czarny\", \"counts\": 963}, {\"team\": \"Czerwony\", \"counts\": 1031}, {\"team\": \"Niebieski\", \"counts\": 965}, {\"team\": \"Zielony\", \"counts\": 1001}]}}, {\"mode\": \"vega-lite\"});\n</script>",
      "text/plain": "alt.Chart(...)"
     },
     "execution_count": 313,
     "metadata": {},
     "output_type": "execute_result"
    }
   ],
   "source": [
    "df = pd.DataFrame(csv, columns=['id', 'team'])\n",
    "df = df.groupby(['team']).count()\n",
    "df = df.rename(columns={'id': 'counts'})\n",
    "df[\"counts\"] = df[\"counts\"].astype('int32')\n",
    "df = df.reset_index(level=0)\n",
    "alt.Chart(df).mark_bar(orient='horizontal').encode(\n",
    "    x='counts', y='team', color='counts'\n",
    ")"
   ],
   "metadata": {
    "collapsed": false
   }
  },
  {
   "cell_type": "code",
   "execution_count": 314,
   "outputs": [
    {
     "name": "stderr",
     "output_type": "stream",
     "text": [
      "/Users/pp/Library/Caches/pypoetry/virtualenvs/factorydb-fGh_wC37-py3.10/lib/python3.10/site-packages/altair/utils/core.py:317: FutureWarning: iteritems is deprecated and will be removed in a future version. Use .items instead.\n",
      "  for col_name, dtype in df.dtypes.iteritems():\n"
     ]
    },
    {
     "data": {
      "text/html": "\n<div id=\"altair-viz-eb6be2c3b5854282b039d9ffe2cd9434\"></div>\n<script type=\"text/javascript\">\n  var VEGA_DEBUG = (typeof VEGA_DEBUG == \"undefined\") ? {} : VEGA_DEBUG;\n  (function(spec, embedOpt){\n    let outputDiv = document.currentScript.previousElementSibling;\n    if (outputDiv.id !== \"altair-viz-eb6be2c3b5854282b039d9ffe2cd9434\") {\n      outputDiv = document.getElementById(\"altair-viz-eb6be2c3b5854282b039d9ffe2cd9434\");\n    }\n    const paths = {\n      \"vega\": \"https://cdn.jsdelivr.net/npm//vega@5?noext\",\n      \"vega-lib\": \"https://cdn.jsdelivr.net/npm//vega-lib?noext\",\n      \"vega-lite\": \"https://cdn.jsdelivr.net/npm//vega-lite@4.17.0?noext\",\n      \"vega-embed\": \"https://cdn.jsdelivr.net/npm//vega-embed@6?noext\",\n    };\n\n    function maybeLoadScript(lib, version) {\n      var key = `${lib.replace(\"-\", \"\")}_version`;\n      return (VEGA_DEBUG[key] == version) ?\n        Promise.resolve(paths[lib]) :\n        new Promise(function(resolve, reject) {\n          var s = document.createElement('script');\n          document.getElementsByTagName(\"head\")[0].appendChild(s);\n          s.async = true;\n          s.onload = () => {\n            VEGA_DEBUG[key] = version;\n            return resolve(paths[lib]);\n          };\n          s.onerror = () => reject(`Error loading script: ${paths[lib]}`);\n          s.src = paths[lib];\n        });\n    }\n\n    function showError(err) {\n      outputDiv.innerHTML = `<div class=\"error\" style=\"color:red;\">${err}</div>`;\n      throw err;\n    }\n\n    function displayChart(vegaEmbed) {\n      vegaEmbed(outputDiv, spec, embedOpt)\n        .catch(err => showError(`Javascript Error: ${err.message}<br>This usually means there's a typo in your chart specification. See the javascript console for the full traceback.`));\n    }\n\n    if(typeof define === \"function\" && define.amd) {\n      requirejs.config({paths});\n      require([\"vega-embed\"], displayChart, err => showError(`Error loading script: ${err.message}`));\n    } else {\n      maybeLoadScript(\"vega\", \"5\")\n        .then(() => maybeLoadScript(\"vega-lite\", \"4.17.0\"))\n        .then(() => maybeLoadScript(\"vega-embed\", \"6\"))\n        .catch(showError)\n        .then(() => displayChart(vegaEmbed));\n    }\n  })({\"config\": {\"view\": {\"continuousWidth\": 400, \"continuousHeight\": 300}}, \"data\": {\"name\": \"data-8074cd8450deb86fd40b0a2c604d60f0\"}, \"mark\": {\"type\": \"bar\", \"orient\": \"horizontal\"}, \"encoding\": {\"color\": {\"field\": \"counts\", \"type\": \"quantitative\"}, \"column\": {\"field\": \"team\", \"type\": \"nominal\"}, \"x\": {\"field\": \"employment_type\", \"type\": \"nominal\"}, \"y\": {\"field\": \"counts\", \"type\": \"quantitative\"}}, \"$schema\": \"https://vega.github.io/schema/vega-lite/v4.17.0.json\", \"datasets\": {\"data-8074cd8450deb86fd40b0a2c604d60f0\": [{\"employment_type\": \"Pe\\u0142en etat\", \"team\": \"Bia\\u0142y\", \"counts\": 496}, {\"employment_type\": \"P\\u00f3\\u0142 etatu\", \"team\": \"Bia\\u0142y\", \"counts\": 323}, {\"employment_type\": \"Zatrudnienie na godziny\", \"team\": \"Bia\\u0142y\", \"counts\": 221}, {\"employment_type\": \"Pe\\u0142en etat\", \"team\": \"Czarny\", \"counts\": 488}, {\"employment_type\": \"P\\u00f3\\u0142 etatu\", \"team\": \"Czarny\", \"counts\": 271}, {\"employment_type\": \"Zatrudnienie na godziny\", \"team\": \"Czarny\", \"counts\": 204}, {\"employment_type\": \"Pe\\u0142en etat\", \"team\": \"Czerwony\", \"counts\": 538}, {\"employment_type\": \"P\\u00f3\\u0142 etatu\", \"team\": \"Czerwony\", \"counts\": 290}, {\"employment_type\": \"Zatrudnienie na godziny\", \"team\": \"Czerwony\", \"counts\": 203}, {\"employment_type\": \"Pe\\u0142en etat\", \"team\": \"Niebieski\", \"counts\": 472}, {\"employment_type\": \"P\\u00f3\\u0142 etatu\", \"team\": \"Niebieski\", \"counts\": 290}, {\"employment_type\": \"Zatrudnienie na godziny\", \"team\": \"Niebieski\", \"counts\": 203}, {\"employment_type\": \"Pe\\u0142en etat\", \"team\": \"Zielony\", \"counts\": 510}, {\"employment_type\": \"P\\u00f3\\u0142 etatu\", \"team\": \"Zielony\", \"counts\": 295}, {\"employment_type\": \"Zatrudnienie na godziny\", \"team\": \"Zielony\", \"counts\": 196}]}}, {\"mode\": \"vega-lite\"});\n</script>",
      "text/plain": "alt.Chart(...)"
     },
     "execution_count": 314,
     "metadata": {},
     "output_type": "execute_result"
    }
   ],
   "source": [
    "df = pd.DataFrame(csv, columns=['id', 'team', 'employment_type'])\n",
    "df = df.groupby(['team', 'employment_type']).count()\n",
    "df = df.rename(columns={'id': 'counts'})\n",
    "df[\"counts\"] = df[\"counts\"].astype('int32')\n",
    "df = df.reset_index(level=0)\n",
    "df = df.reset_index(level=0)\n",
    "alt.Chart(df).mark_bar(orient='horizontal').encode(\n",
    "    column=\"team\",\n",
    "    x='employment_type', y='counts', color='counts'\n",
    ")"
   ],
   "metadata": {
    "collapsed": false
   }
  },
  {
   "cell_type": "code",
   "execution_count": 315,
   "outputs": [
    {
     "name": "stdout",
     "output_type": "stream",
     "text": [
      "<class 'pandas.core.frame.DataFrame'>\n",
      "RangeIndex: 2832010 entries, 0 to 2832009\n",
      "Data columns (total 5 columns):\n",
      " #   Column       Dtype  \n",
      "---  ------       -----  \n",
      " 0   item_number  object \n",
      " 1   step_1       float64\n",
      " 2   step_2       float64\n",
      " 3   step_3       float64\n",
      " 4   employee_id  int64  \n",
      "dtypes: float64(3), int64(1), object(1)\n",
      "memory usage: 108.0+ MB\n"
     ]
    }
   ],
   "source": [
    "df_elements = pd.DataFrame(pd.read_csv('elements.csv'))\n"
   ],
   "metadata": {
    "collapsed": false
   }
  },
  {
   "cell_type": "code",
   "execution_count": 328,
   "outputs": [
    {
     "name": "stderr",
     "output_type": "stream",
     "text": [
      "/Users/pp/Library/Caches/pypoetry/virtualenvs/factorydb-fGh_wC37-py3.10/lib/python3.10/site-packages/altair/utils/core.py:317: FutureWarning: iteritems is deprecated and will be removed in a future version. Use .items instead.\n",
      "  for col_name, dtype in df.dtypes.iteritems():\n"
     ]
    },
    {
     "data": {
      "text/html": "\n<div id=\"altair-viz-57feedad44334e33857e7146aec493e0\"></div>\n<script type=\"text/javascript\">\n  var VEGA_DEBUG = (typeof VEGA_DEBUG == \"undefined\") ? {} : VEGA_DEBUG;\n  (function(spec, embedOpt){\n    let outputDiv = document.currentScript.previousElementSibling;\n    if (outputDiv.id !== \"altair-viz-57feedad44334e33857e7146aec493e0\") {\n      outputDiv = document.getElementById(\"altair-viz-57feedad44334e33857e7146aec493e0\");\n    }\n    const paths = {\n      \"vega\": \"https://cdn.jsdelivr.net/npm//vega@5?noext\",\n      \"vega-lib\": \"https://cdn.jsdelivr.net/npm//vega-lib?noext\",\n      \"vega-lite\": \"https://cdn.jsdelivr.net/npm//vega-lite@4.17.0?noext\",\n      \"vega-embed\": \"https://cdn.jsdelivr.net/npm//vega-embed@6?noext\",\n    };\n\n    function maybeLoadScript(lib, version) {\n      var key = `${lib.replace(\"-\", \"\")}_version`;\n      return (VEGA_DEBUG[key] == version) ?\n        Promise.resolve(paths[lib]) :\n        new Promise(function(resolve, reject) {\n          var s = document.createElement('script');\n          document.getElementsByTagName(\"head\")[0].appendChild(s);\n          s.async = true;\n          s.onload = () => {\n            VEGA_DEBUG[key] = version;\n            return resolve(paths[lib]);\n          };\n          s.onerror = () => reject(`Error loading script: ${paths[lib]}`);\n          s.src = paths[lib];\n        });\n    }\n\n    function showError(err) {\n      outputDiv.innerHTML = `<div class=\"error\" style=\"color:red;\">${err}</div>`;\n      throw err;\n    }\n\n    function displayChart(vegaEmbed) {\n      vegaEmbed(outputDiv, spec, embedOpt)\n        .catch(err => showError(`Javascript Error: ${err.message}<br>This usually means there's a typo in your chart specification. See the javascript console for the full traceback.`));\n    }\n\n    if(typeof define === \"function\" && define.amd) {\n      requirejs.config({paths});\n      require([\"vega-embed\"], displayChart, err => showError(`Error loading script: ${err.message}`));\n    } else {\n      maybeLoadScript(\"vega\", \"5\")\n        .then(() => maybeLoadScript(\"vega-lite\", \"4.17.0\"))\n        .then(() => maybeLoadScript(\"vega-embed\", \"6\"))\n        .catch(showError)\n        .then(() => displayChart(vegaEmbed));\n    }\n  })({\"config\": {\"view\": {\"continuousWidth\": 400, \"continuousHeight\": 300}}, \"data\": {\"name\": \"data-b66e82918ee90e7d7eb35d5ed4cd3a00\"}, \"mark\": {\"type\": \"bar\", \"orient\": \"horizontal\"}, \"encoding\": {\"color\": {\"field\": \"counts\", \"type\": \"quantitative\"}, \"x\": {\"field\": \"team\", \"type\": \"nominal\"}, \"y\": {\"field\": \"counts\", \"type\": \"quantitative\"}}, \"$schema\": \"https://vega.github.io/schema/vega-lite/v4.17.0.json\", \"datasets\": {\"data-b66e82918ee90e7d7eb35d5ed4cd3a00\": [{\"team\": \"Bia\\u0142y\", \"counts\": 890596, \"name\": 890596, \"date_of_employment\": 890596, \"employment_type\": 890596, \"item_number\": 890596, \"step_1\": 890596, \"step_2\": 890596, \"step_3\": 890596, \"employee_id\": 890596}, {\"team\": \"Czarny\", \"counts\": 846583, \"name\": 846583, \"date_of_employment\": 846583, \"employment_type\": 846583, \"item_number\": 846583, \"step_1\": 846583, \"step_2\": 846583, \"step_3\": 846583, \"employee_id\": 846583}, {\"team\": \"Czerwony\", \"counts\": 885787, \"name\": 885787, \"date_of_employment\": 885787, \"employment_type\": 885787, \"item_number\": 885787, \"step_1\": 885787, \"step_2\": 885787, \"step_3\": 885787, \"employee_id\": 885787}, {\"team\": \"Niebieski\", \"counts\": 820602, \"name\": 820602, \"date_of_employment\": 820602, \"employment_type\": 820602, \"item_number\": 820602, \"step_1\": 820602, \"step_2\": 820602, \"step_3\": 820602, \"employee_id\": 820602}, {\"team\": \"Zielony\", \"counts\": 851268, \"name\": 851268, \"date_of_employment\": 851268, \"employment_type\": 851268, \"item_number\": 851268, \"step_1\": 851268, \"step_2\": 851268, \"step_3\": 851268, \"employee_id\": 851268}]}}, {\"mode\": \"vega-lite\"});\n</script>",
      "text/plain": "alt.Chart(...)"
     },
     "execution_count": 328,
     "metadata": {},
     "output_type": "execute_result"
    }
   ],
   "source": [
    "df = pd.DataFrame(pd.read_csv('employees.csv'))\n",
    "df_elements = pd.DataFrame(pd.read_csv('elements.csv'))\n",
    "df_merged = df.merge(df_elements, left_on='id', right_on='employee_id')\n",
    "df_merged = df_merged.groupby(['team']).count()\n",
    "df_merged = df_merged.rename(columns={'id': 'counts'})\n",
    "df_merged[\"counts\"] = df_merged[\"counts\"].astype('int32')\n",
    "df_merged = df_merged.reset_index(level=0)\n",
    "alt.Chart(df_merged).mark_bar(orient='horizontal').encode(\n",
    "    x='team', y='counts', color='counts'\n",
    ")"
   ],
   "metadata": {
    "collapsed": false
   }
  },
  {
   "cell_type": "code",
   "execution_count": 327,
   "outputs": [
    {
     "name": "stderr",
     "output_type": "stream",
     "text": [
      "/Users/pp/Library/Caches/pypoetry/virtualenvs/factorydb-fGh_wC37-py3.10/lib/python3.10/site-packages/altair/utils/core.py:317: FutureWarning: iteritems is deprecated and will be removed in a future version. Use .items instead.\n",
      "  for col_name, dtype in df.dtypes.iteritems():\n"
     ]
    },
    {
     "data": {
      "text/html": "\n<div id=\"altair-viz-c22ca08fc3704af2946b00fa6167ea2c\"></div>\n<script type=\"text/javascript\">\n  var VEGA_DEBUG = (typeof VEGA_DEBUG == \"undefined\") ? {} : VEGA_DEBUG;\n  (function(spec, embedOpt){\n    let outputDiv = document.currentScript.previousElementSibling;\n    if (outputDiv.id !== \"altair-viz-c22ca08fc3704af2946b00fa6167ea2c\") {\n      outputDiv = document.getElementById(\"altair-viz-c22ca08fc3704af2946b00fa6167ea2c\");\n    }\n    const paths = {\n      \"vega\": \"https://cdn.jsdelivr.net/npm//vega@5?noext\",\n      \"vega-lib\": \"https://cdn.jsdelivr.net/npm//vega-lib?noext\",\n      \"vega-lite\": \"https://cdn.jsdelivr.net/npm//vega-lite@4.17.0?noext\",\n      \"vega-embed\": \"https://cdn.jsdelivr.net/npm//vega-embed@6?noext\",\n    };\n\n    function maybeLoadScript(lib, version) {\n      var key = `${lib.replace(\"-\", \"\")}_version`;\n      return (VEGA_DEBUG[key] == version) ?\n        Promise.resolve(paths[lib]) :\n        new Promise(function(resolve, reject) {\n          var s = document.createElement('script');\n          document.getElementsByTagName(\"head\")[0].appendChild(s);\n          s.async = true;\n          s.onload = () => {\n            VEGA_DEBUG[key] = version;\n            return resolve(paths[lib]);\n          };\n          s.onerror = () => reject(`Error loading script: ${paths[lib]}`);\n          s.src = paths[lib];\n        });\n    }\n\n    function showError(err) {\n      outputDiv.innerHTML = `<div class=\"error\" style=\"color:red;\">${err}</div>`;\n      throw err;\n    }\n\n    function displayChart(vegaEmbed) {\n      vegaEmbed(outputDiv, spec, embedOpt)\n        .catch(err => showError(`Javascript Error: ${err.message}<br>This usually means there's a typo in your chart specification. See the javascript console for the full traceback.`));\n    }\n\n    if(typeof define === \"function\" && define.amd) {\n      requirejs.config({paths});\n      require([\"vega-embed\"], displayChart, err => showError(`Error loading script: ${err.message}`));\n    } else {\n      maybeLoadScript(\"vega\", \"5\")\n        .then(() => maybeLoadScript(\"vega-lite\", \"4.17.0\"))\n        .then(() => maybeLoadScript(\"vega-embed\", \"6\"))\n        .catch(showError)\n        .then(() => displayChart(vegaEmbed));\n    }\n  })({\"config\": {\"view\": {\"continuousWidth\": 400, \"continuousHeight\": 300}}, \"data\": {\"name\": \"data-788ce6f3f73f149ceaea8eaa35e5d2f0\"}, \"mark\": {\"type\": \"bar\", \"orient\": \"horizontal\"}, \"encoding\": {\"color\": {\"field\": \"counts\", \"type\": \"quantitative\"}, \"x\": {\"field\": \"employment_type\", \"type\": \"nominal\"}, \"y\": {\"field\": \"counts\", \"type\": \"quantitative\"}}, \"$schema\": \"https://vega.github.io/schema/vega-lite/v4.17.0.json\", \"datasets\": {\"data-788ce6f3f73f149ceaea8eaa35e5d2f0\": [{\"employment_type\": \"Pe\\u0142en etat\", \"counts\": 2606818, \"name\": 2606818, \"date_of_employment\": 2606818, \"team\": 2606818, \"item_number\": 2606818, \"step_1\": 2606818, \"step_2\": 2606818, \"step_3\": 2606818, \"employee_id\": 2606818}, {\"employment_type\": \"P\\u00f3\\u0142 etatu\", \"counts\": 873166, \"name\": 873166, \"date_of_employment\": 873166, \"team\": 873166, \"item_number\": 873166, \"step_1\": 873166, \"step_2\": 873166, \"step_3\": 873166, \"employee_id\": 873166}, {\"employment_type\": \"Zatrudnienie na godziny\", \"counts\": 814852, \"name\": 814852, \"date_of_employment\": 814852, \"team\": 814852, \"item_number\": 814852, \"step_1\": 814852, \"step_2\": 814852, \"step_3\": 814852, \"employee_id\": 814852}]}}, {\"mode\": \"vega-lite\"});\n</script>",
      "text/plain": "alt.Chart(...)"
     },
     "execution_count": 327,
     "metadata": {},
     "output_type": "execute_result"
    }
   ],
   "source": [
    "df = pd.DataFrame(pd.read_csv('employees.csv'))\n",
    "df_elements = pd.DataFrame(pd.read_csv('elements.csv'))\n",
    "df_merged = df.merge(df_elements, left_on='id', right_on='employee_id')\n",
    "df_merged = df_merged.groupby(['employment_type']).count()\n",
    "df_merged = df_merged.rename(columns={'id': 'counts'})\n",
    "df_merged[\"counts\"] = df_merged[\"counts\"].astype('int32')\n",
    "df_merged = df_merged.reset_index(level=0)\n",
    "alt.Chart(df_merged).mark_bar(orient='horizontal').encode(\n",
    "    x='employment_type', y='counts', color='counts'\n",
    ")"
   ],
   "metadata": {
    "collapsed": false
   }
  },
  {
   "cell_type": "code",
   "execution_count": 340,
   "outputs": [
    {
     "name": "stderr",
     "output_type": "stream",
     "text": [
      "/Users/pp/Library/Caches/pypoetry/virtualenvs/factorydb-fGh_wC37-py3.10/lib/python3.10/site-packages/altair/utils/core.py:317: FutureWarning: iteritems is deprecated and will be removed in a future version. Use .items instead.\n",
      "  for col_name, dtype in df.dtypes.iteritems():\n"
     ]
    },
    {
     "data": {
      "text/html": "\n<div id=\"altair-viz-5adcaa3a8ef5481cbbcd4731c24c92b7\"></div>\n<script type=\"text/javascript\">\n  var VEGA_DEBUG = (typeof VEGA_DEBUG == \"undefined\") ? {} : VEGA_DEBUG;\n  (function(spec, embedOpt){\n    let outputDiv = document.currentScript.previousElementSibling;\n    if (outputDiv.id !== \"altair-viz-5adcaa3a8ef5481cbbcd4731c24c92b7\") {\n      outputDiv = document.getElementById(\"altair-viz-5adcaa3a8ef5481cbbcd4731c24c92b7\");\n    }\n    const paths = {\n      \"vega\": \"https://cdn.jsdelivr.net/npm//vega@5?noext\",\n      \"vega-lib\": \"https://cdn.jsdelivr.net/npm//vega-lib?noext\",\n      \"vega-lite\": \"https://cdn.jsdelivr.net/npm//vega-lite@4.17.0?noext\",\n      \"vega-embed\": \"https://cdn.jsdelivr.net/npm//vega-embed@6?noext\",\n    };\n\n    function maybeLoadScript(lib, version) {\n      var key = `${lib.replace(\"-\", \"\")}_version`;\n      return (VEGA_DEBUG[key] == version) ?\n        Promise.resolve(paths[lib]) :\n        new Promise(function(resolve, reject) {\n          var s = document.createElement('script');\n          document.getElementsByTagName(\"head\")[0].appendChild(s);\n          s.async = true;\n          s.onload = () => {\n            VEGA_DEBUG[key] = version;\n            return resolve(paths[lib]);\n          };\n          s.onerror = () => reject(`Error loading script: ${paths[lib]}`);\n          s.src = paths[lib];\n        });\n    }\n\n    function showError(err) {\n      outputDiv.innerHTML = `<div class=\"error\" style=\"color:red;\">${err}</div>`;\n      throw err;\n    }\n\n    function displayChart(vegaEmbed) {\n      vegaEmbed(outputDiv, spec, embedOpt)\n        .catch(err => showError(`Javascript Error: ${err.message}<br>This usually means there's a typo in your chart specification. See the javascript console for the full traceback.`));\n    }\n\n    if(typeof define === \"function\" && define.amd) {\n      requirejs.config({paths});\n      require([\"vega-embed\"], displayChart, err => showError(`Error loading script: ${err.message}`));\n    } else {\n      maybeLoadScript(\"vega\", \"5\")\n        .then(() => maybeLoadScript(\"vega-lite\", \"4.17.0\"))\n        .then(() => maybeLoadScript(\"vega-embed\", \"6\"))\n        .catch(showError)\n        .then(() => displayChart(vegaEmbed));\n    }\n  })({\"config\": {\"view\": {\"continuousWidth\": 400, \"continuousHeight\": 300}}, \"data\": {\"name\": \"data-907c9087ab0ba9313f2f1d53a45fa9ba\"}, \"mark\": {\"type\": \"bar\", \"orient\": \"horizontal\"}, \"encoding\": {\"color\": {\"field\": \"counts\", \"type\": \"quantitative\"}, \"x\": {\"field\": \"name\", \"type\": \"nominal\"}, \"y\": {\"field\": \"counts\", \"type\": \"quantitative\"}}, \"$schema\": \"https://vega.github.io/schema/vega-lite/v4.17.0.json\", \"datasets\": {\"data-907c9087ab0ba9313f2f1d53a45fa9ba\": [{\"name\": \"Aurelia Kunda\", \"counts\": 3}, {\"name\": \"pani Aniela Lament\", \"counts\": 3}, {\"name\": \"Juliusz Wis\\u0142a\", \"counts\": 5}, {\"name\": \"Maurycy Niemczuk\", \"counts\": 7}, {\"name\": \"Nicole Czerwionka\", \"counts\": 9}, {\"name\": \"Sandra Bere\\u015b\", \"counts\": 9}, {\"name\": \"Nicole Pietrusiak\", \"counts\": 10}, {\"name\": \"Anastazja Kobry\\u0144\", \"counts\": 15}, {\"name\": \"Andrzej Go\\u0142ek\", \"counts\": 16}, {\"name\": \"Oliwier Twardzik\", \"counts\": 18}, {\"name\": \"Antoni Tokarek\", \"counts\": 21}, {\"name\": \"Antoni Siatka\", \"counts\": 22}, {\"name\": \"Maksymilian Owsianka\", \"counts\": 22}, {\"name\": \"Sonia Dykas\", \"counts\": 22}, {\"name\": \"Miko\\u0142aj Zi\\u0119cik\", \"counts\": 25}, {\"name\": \"Natasza Tadla\", \"counts\": 27}, {\"name\": \"Karina Pyszka\", \"counts\": 28}, {\"name\": \"Mariusz Wojaczek\", \"counts\": 28}, {\"name\": \"pani Urszula Katana\", \"counts\": 30}, {\"name\": \"pani Nicole Roter\", \"counts\": 31}]}}, {\"mode\": \"vega-lite\"});\n</script>",
      "text/plain": "alt.Chart(...)"
     },
     "execution_count": 340,
     "metadata": {},
     "output_type": "execute_result"
    }
   ],
   "source": [
    "df = pd.DataFrame(pd.read_csv('employees.csv'))\n",
    "df_elements = pd.DataFrame(pd.read_csv('elements.csv'))\n",
    "df_merged = df.merge(df_elements, left_on='id', right_on='employee_id')\n",
    "df_merged = df_merged.groupby(['name']).count()\n",
    "df_merged = df_merged.reset_index(level=0)\n",
    "df_merged = pd.DataFrame(df_merged, columns=['name', 'id'])\n",
    "df_merged = df_merged.rename(columns={'id': 'counts'})\n",
    "df_merged[\"counts\"] = df_merged[\"counts\"].astype('int32')\n",
    "alt.Chart(df_merged.nsmallest(20, columns=['counts'])).mark_bar(orient='horizontal').encode(\n",
    "    x='name', y='counts', color='counts'\n",
    ")"
   ],
   "metadata": {
    "collapsed": false
   }
  },
  {
   "cell_type": "code",
   "execution_count": null,
   "outputs": [],
   "source": [],
   "metadata": {
    "collapsed": false
   }
  }
 ],
 "metadata": {
  "kernelspec": {
   "display_name": "Python 3",
   "language": "python",
   "name": "python3"
  },
  "language_info": {
   "codemirror_mode": {
    "name": "ipython",
    "version": 2
   },
   "file_extension": ".py",
   "mimetype": "text/x-python",
   "name": "python",
   "nbconvert_exporter": "python",
   "pygments_lexer": "ipython2",
   "version": "2.7.6"
  }
 },
 "nbformat": 4,
 "nbformat_minor": 0
}
