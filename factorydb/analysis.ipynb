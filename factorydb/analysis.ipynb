{
 "cells": [
  {
   "cell_type": "code",
   "execution_count": 28,
   "outputs": [],
   "source": [
    "import pandas as pd\n",
    "csv = pd.read_csv('./elements.csv')"
   ],
   "metadata": {
    "collapsed": false
   }
  },
  {
   "cell_type": "code",
   "execution_count": 29,
   "outputs": [
    {
     "data": {
      "text/plain": "       item_number    step_1    step_2    step_3  employee_id\n0  4827635456-3601  1.203017  0.557463  3.683250         3601\n1  4827635360-3601  5.222526  0.288862  0.970568         3601\n2  4827635216-3601  0.558428  0.860152  1.867758         3601\n3  4827635648-3601  3.682576  0.049501  1.186069         3601\n4  4827635504-3601  1.157969  0.697663  0.269919         3601",
      "text/html": "<div>\n<style scoped>\n    .dataframe tbody tr th:only-of-type {\n        vertical-align: middle;\n    }\n\n    .dataframe tbody tr th {\n        vertical-align: top;\n    }\n\n    .dataframe thead th {\n        text-align: right;\n    }\n</style>\n<table border=\"1\" class=\"dataframe\">\n  <thead>\n    <tr style=\"text-align: right;\">\n      <th></th>\n      <th>item_number</th>\n      <th>step_1</th>\n      <th>step_2</th>\n      <th>step_3</th>\n      <th>employee_id</th>\n    </tr>\n  </thead>\n  <tbody>\n    <tr>\n      <th>0</th>\n      <td>4827635456-3601</td>\n      <td>1.203017</td>\n      <td>0.557463</td>\n      <td>3.683250</td>\n      <td>3601</td>\n    </tr>\n    <tr>\n      <th>1</th>\n      <td>4827635360-3601</td>\n      <td>5.222526</td>\n      <td>0.288862</td>\n      <td>0.970568</td>\n      <td>3601</td>\n    </tr>\n    <tr>\n      <th>2</th>\n      <td>4827635216-3601</td>\n      <td>0.558428</td>\n      <td>0.860152</td>\n      <td>1.867758</td>\n      <td>3601</td>\n    </tr>\n    <tr>\n      <th>3</th>\n      <td>4827635648-3601</td>\n      <td>3.682576</td>\n      <td>0.049501</td>\n      <td>1.186069</td>\n      <td>3601</td>\n    </tr>\n    <tr>\n      <th>4</th>\n      <td>4827635504-3601</td>\n      <td>1.157969</td>\n      <td>0.697663</td>\n      <td>0.269919</td>\n      <td>3601</td>\n    </tr>\n  </tbody>\n</table>\n</div>"
     },
     "execution_count": 29,
     "metadata": {},
     "output_type": "execute_result"
    }
   ],
   "source": [
    "csv.head()"
   ],
   "metadata": {
    "collapsed": false
   }
  },
  {
   "cell_type": "code",
   "execution_count": 30,
   "outputs": [
    {
     "data": {
      "text/plain": "item_number    2832010\nstep_1         2832010\nstep_2         2832010\nstep_3         2832010\nemployee_id       3912\ndtype: int64"
     },
     "execution_count": 30,
     "metadata": {},
     "output_type": "execute_result"
    }
   ],
   "source": [
    "csv.nunique()"
   ],
   "metadata": {
    "collapsed": false
   }
  },
  {
   "cell_type": "code",
   "execution_count": 31,
   "outputs": [
    {
     "data": {
      "text/plain": "         item_number  step_1  step_2  step_3  employee_id\n0              False   False   False   False        False\n1              False   False   False   False        False\n2              False   False   False   False        False\n3              False   False   False   False        False\n4              False   False   False   False        False\n...              ...     ...     ...     ...          ...\n2832005        False   False   False   False        False\n2832006        False   False   False   False        False\n2832007        False   False   False   False        False\n2832008        False   False   False   False        False\n2832009        False   False   False   False        False\n\n[2832010 rows x 5 columns]",
      "text/html": "<div>\n<style scoped>\n    .dataframe tbody tr th:only-of-type {\n        vertical-align: middle;\n    }\n\n    .dataframe tbody tr th {\n        vertical-align: top;\n    }\n\n    .dataframe thead th {\n        text-align: right;\n    }\n</style>\n<table border=\"1\" class=\"dataframe\">\n  <thead>\n    <tr style=\"text-align: right;\">\n      <th></th>\n      <th>item_number</th>\n      <th>step_1</th>\n      <th>step_2</th>\n      <th>step_3</th>\n      <th>employee_id</th>\n    </tr>\n  </thead>\n  <tbody>\n    <tr>\n      <th>0</th>\n      <td>False</td>\n      <td>False</td>\n      <td>False</td>\n      <td>False</td>\n      <td>False</td>\n    </tr>\n    <tr>\n      <th>1</th>\n      <td>False</td>\n      <td>False</td>\n      <td>False</td>\n      <td>False</td>\n      <td>False</td>\n    </tr>\n    <tr>\n      <th>2</th>\n      <td>False</td>\n      <td>False</td>\n      <td>False</td>\n      <td>False</td>\n      <td>False</td>\n    </tr>\n    <tr>\n      <th>3</th>\n      <td>False</td>\n      <td>False</td>\n      <td>False</td>\n      <td>False</td>\n      <td>False</td>\n    </tr>\n    <tr>\n      <th>4</th>\n      <td>False</td>\n      <td>False</td>\n      <td>False</td>\n      <td>False</td>\n      <td>False</td>\n    </tr>\n    <tr>\n      <th>...</th>\n      <td>...</td>\n      <td>...</td>\n      <td>...</td>\n      <td>...</td>\n      <td>...</td>\n    </tr>\n    <tr>\n      <th>2832005</th>\n      <td>False</td>\n      <td>False</td>\n      <td>False</td>\n      <td>False</td>\n      <td>False</td>\n    </tr>\n    <tr>\n      <th>2832006</th>\n      <td>False</td>\n      <td>False</td>\n      <td>False</td>\n      <td>False</td>\n      <td>False</td>\n    </tr>\n    <tr>\n      <th>2832007</th>\n      <td>False</td>\n      <td>False</td>\n      <td>False</td>\n      <td>False</td>\n      <td>False</td>\n    </tr>\n    <tr>\n      <th>2832008</th>\n      <td>False</td>\n      <td>False</td>\n      <td>False</td>\n      <td>False</td>\n      <td>False</td>\n    </tr>\n    <tr>\n      <th>2832009</th>\n      <td>False</td>\n      <td>False</td>\n      <td>False</td>\n      <td>False</td>\n      <td>False</td>\n    </tr>\n  </tbody>\n</table>\n<p>2832010 rows × 5 columns</p>\n</div>"
     },
     "execution_count": 31,
     "metadata": {},
     "output_type": "execute_result"
    }
   ],
   "source": [
    "csv.isnull()"
   ],
   "metadata": {
    "collapsed": false
   }
  },
  {
   "cell_type": "code",
   "execution_count": 32,
   "outputs": [
    {
     "name": "stdout",
     "output_type": "stream",
     "text": [
      "<class 'pandas.core.frame.DataFrame'>\n",
      "RangeIndex: 2832010 entries, 0 to 2832009\n",
      "Data columns (total 5 columns):\n",
      " #   Column       Dtype  \n",
      "---  ------       -----  \n",
      " 0   item_number  object \n",
      " 1   step_1       float64\n",
      " 2   step_2       float64\n",
      " 3   step_3       float64\n",
      " 4   employee_id  int64  \n",
      "dtypes: float64(3), int64(1), object(1)\n",
      "memory usage: 108.0+ MB\n"
     ]
    }
   ],
   "source": [
    "csv.info()"
   ],
   "metadata": {
    "collapsed": false
   }
  },
  {
   "cell_type": "code",
   "execution_count": 33,
   "outputs": [
    {
     "data": {
      "text/plain": "             step_1        step_2        step_3   employee_id\ncount  2.832010e+06  2.832010e+06  2.832010e+06  2.832010e+06\nmean   3.001129e+00  5.000888e-01  1.000362e+00  4.963259e+03\nstd    1.732657e+00  2.887325e-01  1.000092e+00  2.875815e+03\nmin    1.639755e-02  5.948118e-08  9.624561e-09  3.000000e+00\n25%    1.728583e+00  2.500698e-01  2.880116e-01  2.499000e+03\n50%    2.674836e+00  4.998611e-01  6.931661e-01  4.882000e+03\n75%    3.922519e+00  7.501292e-01  1.386570e+00  7.453000e+03\nmax    2.172377e+01  9.999986e-01  1.514215e+01  9.998000e+03",
      "text/html": "<div>\n<style scoped>\n    .dataframe tbody tr th:only-of-type {\n        vertical-align: middle;\n    }\n\n    .dataframe tbody tr th {\n        vertical-align: top;\n    }\n\n    .dataframe thead th {\n        text-align: right;\n    }\n</style>\n<table border=\"1\" class=\"dataframe\">\n  <thead>\n    <tr style=\"text-align: right;\">\n      <th></th>\n      <th>step_1</th>\n      <th>step_2</th>\n      <th>step_3</th>\n      <th>employee_id</th>\n    </tr>\n  </thead>\n  <tbody>\n    <tr>\n      <th>count</th>\n      <td>2.832010e+06</td>\n      <td>2.832010e+06</td>\n      <td>2.832010e+06</td>\n      <td>2.832010e+06</td>\n    </tr>\n    <tr>\n      <th>mean</th>\n      <td>3.001129e+00</td>\n      <td>5.000888e-01</td>\n      <td>1.000362e+00</td>\n      <td>4.963259e+03</td>\n    </tr>\n    <tr>\n      <th>std</th>\n      <td>1.732657e+00</td>\n      <td>2.887325e-01</td>\n      <td>1.000092e+00</td>\n      <td>2.875815e+03</td>\n    </tr>\n    <tr>\n      <th>min</th>\n      <td>1.639755e-02</td>\n      <td>5.948118e-08</td>\n      <td>9.624561e-09</td>\n      <td>3.000000e+00</td>\n    </tr>\n    <tr>\n      <th>25%</th>\n      <td>1.728583e+00</td>\n      <td>2.500698e-01</td>\n      <td>2.880116e-01</td>\n      <td>2.499000e+03</td>\n    </tr>\n    <tr>\n      <th>50%</th>\n      <td>2.674836e+00</td>\n      <td>4.998611e-01</td>\n      <td>6.931661e-01</td>\n      <td>4.882000e+03</td>\n    </tr>\n    <tr>\n      <th>75%</th>\n      <td>3.922519e+00</td>\n      <td>7.501292e-01</td>\n      <td>1.386570e+00</td>\n      <td>7.453000e+03</td>\n    </tr>\n    <tr>\n      <th>max</th>\n      <td>2.172377e+01</td>\n      <td>9.999986e-01</td>\n      <td>1.514215e+01</td>\n      <td>9.998000e+03</td>\n    </tr>\n  </tbody>\n</table>\n</div>"
     },
     "execution_count": 33,
     "metadata": {},
     "output_type": "execute_result"
    }
   ],
   "source": [
    "csv.describe()"
   ],
   "metadata": {
    "collapsed": false
   }
  },
  {
   "cell_type": "code",
   "execution_count": 34,
   "outputs": [],
   "source": [
    "csv_employees = pd.read_csv('./employees.csv')"
   ],
   "metadata": {
    "collapsed": false
   }
  },
  {
   "cell_type": "code",
   "execution_count": 35,
   "outputs": [
    {
     "data": {
      "text/plain": "     id                name date_of_employment employment_type       team\n0  3601   pani Bianka Ratka         2004-05-05      Pełen etat      Biały\n1  5050    pani Bianka Jama         2018-09-30      Pełen etat   Czerwony\n2  5767  Julian Gregorowicz         1992-12-05      Pełen etat     Czarny\n3  6512   pani Justyna Rawa         1994-12-12       Pół etatu  Niebieski\n4   192   pan Ksawery Daraż         2001-11-26      Pełen etat    Zielony",
      "text/html": "<div>\n<style scoped>\n    .dataframe tbody tr th:only-of-type {\n        vertical-align: middle;\n    }\n\n    .dataframe tbody tr th {\n        vertical-align: top;\n    }\n\n    .dataframe thead th {\n        text-align: right;\n    }\n</style>\n<table border=\"1\" class=\"dataframe\">\n  <thead>\n    <tr style=\"text-align: right;\">\n      <th></th>\n      <th>id</th>\n      <th>name</th>\n      <th>date_of_employment</th>\n      <th>employment_type</th>\n      <th>team</th>\n    </tr>\n  </thead>\n  <tbody>\n    <tr>\n      <th>0</th>\n      <td>3601</td>\n      <td>pani Bianka Ratka</td>\n      <td>2004-05-05</td>\n      <td>Pełen etat</td>\n      <td>Biały</td>\n    </tr>\n    <tr>\n      <th>1</th>\n      <td>5050</td>\n      <td>pani Bianka Jama</td>\n      <td>2018-09-30</td>\n      <td>Pełen etat</td>\n      <td>Czerwony</td>\n    </tr>\n    <tr>\n      <th>2</th>\n      <td>5767</td>\n      <td>Julian Gregorowicz</td>\n      <td>1992-12-05</td>\n      <td>Pełen etat</td>\n      <td>Czarny</td>\n    </tr>\n    <tr>\n      <th>3</th>\n      <td>6512</td>\n      <td>pani Justyna Rawa</td>\n      <td>1994-12-12</td>\n      <td>Pół etatu</td>\n      <td>Niebieski</td>\n    </tr>\n    <tr>\n      <th>4</th>\n      <td>192</td>\n      <td>pan Ksawery Daraż</td>\n      <td>2001-11-26</td>\n      <td>Pełen etat</td>\n      <td>Zielony</td>\n    </tr>\n  </tbody>\n</table>\n</div>"
     },
     "execution_count": 35,
     "metadata": {},
     "output_type": "execute_result"
    }
   ],
   "source": [
    "csv_employees.head()"
   ],
   "metadata": {
    "collapsed": false
   }
  },
  {
   "cell_type": "code",
   "execution_count": 36,
   "outputs": [
    {
     "data": {
      "text/plain": "id                    3912\nname                  4985\ndate_of_employment    3992\nemployment_type          3\nteam                     5\ndtype: int64"
     },
     "execution_count": 36,
     "metadata": {},
     "output_type": "execute_result"
    }
   ],
   "source": [
    "csv_employees.nunique()"
   ],
   "metadata": {
    "collapsed": false
   }
  },
  {
   "cell_type": "code",
   "execution_count": 37,
   "outputs": [
    {
     "data": {
      "text/plain": "         id   name  date_of_employment  employment_type   team\n0     False  False               False            False  False\n1     False  False               False            False  False\n2     False  False               False            False  False\n3     False  False               False            False  False\n4     False  False               False            False  False\n...     ...    ...                 ...              ...    ...\n4995  False  False               False            False  False\n4996  False  False               False            False  False\n4997  False  False               False            False  False\n4998  False  False               False            False  False\n4999  False  False               False            False  False\n\n[5000 rows x 5 columns]",
      "text/html": "<div>\n<style scoped>\n    .dataframe tbody tr th:only-of-type {\n        vertical-align: middle;\n    }\n\n    .dataframe tbody tr th {\n        vertical-align: top;\n    }\n\n    .dataframe thead th {\n        text-align: right;\n    }\n</style>\n<table border=\"1\" class=\"dataframe\">\n  <thead>\n    <tr style=\"text-align: right;\">\n      <th></th>\n      <th>id</th>\n      <th>name</th>\n      <th>date_of_employment</th>\n      <th>employment_type</th>\n      <th>team</th>\n    </tr>\n  </thead>\n  <tbody>\n    <tr>\n      <th>0</th>\n      <td>False</td>\n      <td>False</td>\n      <td>False</td>\n      <td>False</td>\n      <td>False</td>\n    </tr>\n    <tr>\n      <th>1</th>\n      <td>False</td>\n      <td>False</td>\n      <td>False</td>\n      <td>False</td>\n      <td>False</td>\n    </tr>\n    <tr>\n      <th>2</th>\n      <td>False</td>\n      <td>False</td>\n      <td>False</td>\n      <td>False</td>\n      <td>False</td>\n    </tr>\n    <tr>\n      <th>3</th>\n      <td>False</td>\n      <td>False</td>\n      <td>False</td>\n      <td>False</td>\n      <td>False</td>\n    </tr>\n    <tr>\n      <th>4</th>\n      <td>False</td>\n      <td>False</td>\n      <td>False</td>\n      <td>False</td>\n      <td>False</td>\n    </tr>\n    <tr>\n      <th>...</th>\n      <td>...</td>\n      <td>...</td>\n      <td>...</td>\n      <td>...</td>\n      <td>...</td>\n    </tr>\n    <tr>\n      <th>4995</th>\n      <td>False</td>\n      <td>False</td>\n      <td>False</td>\n      <td>False</td>\n      <td>False</td>\n    </tr>\n    <tr>\n      <th>4996</th>\n      <td>False</td>\n      <td>False</td>\n      <td>False</td>\n      <td>False</td>\n      <td>False</td>\n    </tr>\n    <tr>\n      <th>4997</th>\n      <td>False</td>\n      <td>False</td>\n      <td>False</td>\n      <td>False</td>\n      <td>False</td>\n    </tr>\n    <tr>\n      <th>4998</th>\n      <td>False</td>\n      <td>False</td>\n      <td>False</td>\n      <td>False</td>\n      <td>False</td>\n    </tr>\n    <tr>\n      <th>4999</th>\n      <td>False</td>\n      <td>False</td>\n      <td>False</td>\n      <td>False</td>\n      <td>False</td>\n    </tr>\n  </tbody>\n</table>\n<p>5000 rows × 5 columns</p>\n</div>"
     },
     "execution_count": 37,
     "metadata": {},
     "output_type": "execute_result"
    }
   ],
   "source": [
    "csv_employees.isnull()"
   ],
   "metadata": {
    "collapsed": false
   }
  },
  {
   "cell_type": "code",
   "execution_count": 38,
   "outputs": [
    {
     "data": {
      "text/plain": "                id\ncount  5000.000000\nmean   4957.568800\nstd    2890.468906\nmin       3.000000\n25%    2464.750000\n50%    4870.000000\n75%    7488.250000\nmax    9998.000000",
      "text/html": "<div>\n<style scoped>\n    .dataframe tbody tr th:only-of-type {\n        vertical-align: middle;\n    }\n\n    .dataframe tbody tr th {\n        vertical-align: top;\n    }\n\n    .dataframe thead th {\n        text-align: right;\n    }\n</style>\n<table border=\"1\" class=\"dataframe\">\n  <thead>\n    <tr style=\"text-align: right;\">\n      <th></th>\n      <th>id</th>\n    </tr>\n  </thead>\n  <tbody>\n    <tr>\n      <th>count</th>\n      <td>5000.000000</td>\n    </tr>\n    <tr>\n      <th>mean</th>\n      <td>4957.568800</td>\n    </tr>\n    <tr>\n      <th>std</th>\n      <td>2890.468906</td>\n    </tr>\n    <tr>\n      <th>min</th>\n      <td>3.000000</td>\n    </tr>\n    <tr>\n      <th>25%</th>\n      <td>2464.750000</td>\n    </tr>\n    <tr>\n      <th>50%</th>\n      <td>4870.000000</td>\n    </tr>\n    <tr>\n      <th>75%</th>\n      <td>7488.250000</td>\n    </tr>\n    <tr>\n      <th>max</th>\n      <td>9998.000000</td>\n    </tr>\n  </tbody>\n</table>\n</div>"
     },
     "execution_count": 38,
     "metadata": {},
     "output_type": "execute_result"
    }
   ],
   "source": [
    "csv_employees.describe()"
   ],
   "metadata": {
    "collapsed": false
   }
  },
  {
   "cell_type": "code",
   "execution_count": 39,
   "outputs": [
    {
     "name": "stdout",
     "output_type": "stream",
     "text": [
      "<class 'pandas.core.frame.DataFrame'>\n",
      "RangeIndex: 5000 entries, 0 to 4999\n",
      "Data columns (total 5 columns):\n",
      " #   Column              Non-Null Count  Dtype \n",
      "---  ------              --------------  ----- \n",
      " 0   id                  5000 non-null   int64 \n",
      " 1   name                5000 non-null   object\n",
      " 2   date_of_employment  5000 non-null   object\n",
      " 3   employment_type     5000 non-null   object\n",
      " 4   team                5000 non-null   object\n",
      "dtypes: int64(1), object(4)\n",
      "memory usage: 195.4+ KB\n"
     ]
    }
   ],
   "source": [
    "csv_employees.info()"
   ],
   "metadata": {
    "collapsed": false
   }
  },
  {
   "cell_type": "code",
   "execution_count": 39,
   "outputs": [],
   "source": [],
   "metadata": {
    "collapsed": false
   }
  }
 ],
 "metadata": {
  "kernelspec": {
   "display_name": "Python 3",
   "language": "python",
   "name": "python3"
  },
  "language_info": {
   "codemirror_mode": {
    "name": "ipython",
    "version": 2
   },
   "file_extension": ".py",
   "mimetype": "text/x-python",
   "name": "python",
   "nbconvert_exporter": "python",
   "pygments_lexer": "ipython2",
   "version": "2.7.6"
  }
 },
 "nbformat": 4,
 "nbformat_minor": 0
}
